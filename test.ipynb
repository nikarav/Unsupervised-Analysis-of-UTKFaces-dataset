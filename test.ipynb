{
 "cells": [
  {
   "cell_type": "code",
   "execution_count": 2,
   "id": "43543cfd",
   "metadata": {},
   "outputs": [],
   "source": [
    "import os\n",
    "import pathlib\n",
    "import pandas as pd\n",
    "import numpy as np\n",
    "from skimage import io\n",
    "import sklearn.preprocessing as preproc\n",
    "import matplotlib.pyplot as plt\n",
    "import scipy.linalg as lng\n",
    "from tqdm import tqdm"
   ]
  },
  {
   "cell_type": "code",
   "execution_count": 8,
   "id": "809ab716",
   "metadata": {},
   "outputs": [
    {
     "name": "stderr",
     "output_type": "stream",
     "text": [
      "100%|████████████████████████████████████████████| 20000/20000 [00:17<00:00, 1154.29it/s]\n"
     ]
    }
   ],
   "source": [
    "data_path = 'data/Faces/'\n",
    "labels_path = 'data/labels.csv'\n",
    "\n",
    "labels = pd.read_csv(labels_path)\n",
    "labels_columns = ['age', 'gender', 'race']\n",
    "labels = pd.DataFrame(data=labels.values, columns=labels_columns)\n",
    "\n",
    "dirs = os.listdir(data_path)\n",
    "no_of_images = len(dirs)\n",
    "\n",
    "# Open one image to get dimensions\n",
    "k = 350\n",
    "img_rnd = io.imread(data_path+f'{k}.jpg')\n",
    "h,w,_ = img_rnd.shape\n",
    "del img_rnd\n",
    "\n",
    "batch_ratio = 10\n",
    "bathc_len = no_of_images//batch_ratio\n",
    "current_index=0\n",
    "\n",
    "\n",
    "\n",
    "## Create the binary. Open it in append mode\n",
    "\n",
    "k = 20000\n",
    "X = np.empty((k,h*w))\n",
    "\n",
    "\n",
    "for i in tqdm(range(k)):\n",
    "    #print(f'Loading image {i+1}/{k}')\n",
    "    a = io.imread(data_path+f'{i}.jpg',as_gray=True)\n",
    "    #if ((a.shape[0] != 200 ) or (a.shape[1] != 200 )):\n",
    "    #    print(\"FUCK\")\n",
    "    #X[i,:] = a.reshape(1,-1)\n",
    "    del a\n",
    "\n"
   ]
  },
  {
   "cell_type": "code",
   "execution_count": null,
   "id": "4e302b82",
   "metadata": {},
   "outputs": [],
   "source": [
    "U,S,Vh = lng.svd(X, full_matrices=False)\n",
    "V = Vh.T\n",
    "del Vh\n",
    "\n",
    "Z = U*S\n",
    "\n",
    "cumsum = np.cumsum(S*S/(S*S).sum())\n",
    "\n",
    "threshold = 0.9\n",
    "\n",
    "def plot_eigenface(V,eigenface=1):\n",
    "    i = eigenface-1\n",
    "    plt.subplot(1,2,1)\n",
    "    plt.imshow( (V[:,i]).reshape(h,w), cmap='gray')\n",
    "    plt.xticks(())\n",
    "    plt.yticks(())\n",
    "\n",
    "    plt.subplot(1,2,2)\n",
    "    plt.imshow((-V[:,i]).reshape(h,w), cmap='gray')\n",
    "    plt.xticks(())\n",
    "    plt.yticks(())\n",
    "\n",
    "    plt.show()\n",
    "    "
   ]
  },
  {
   "cell_type": "code",
   "execution_count": null,
   "id": "b57fe680",
   "metadata": {},
   "outputs": [],
   "source": []
  }
 ],
 "metadata": {
  "kernelspec": {
   "display_name": "Python 3 (ipykernel)",
   "language": "python",
   "name": "python3"
  },
  "language_info": {
   "codemirror_mode": {
    "name": "ipython",
    "version": 3
   },
   "file_extension": ".py",
   "mimetype": "text/x-python",
   "name": "python",
   "nbconvert_exporter": "python",
   "pygments_lexer": "ipython3",
   "version": "3.9.10"
  }
 },
 "nbformat": 4,
 "nbformat_minor": 5
}
