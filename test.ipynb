{
 "cells": [
  {
   "cell_type": "code",
   "execution_count": null,
   "id": "71b64e33",
   "metadata": {},
   "outputs": [],
   "source": [
    "import os\n",
    "import pathlib\n",
    "import pandas as pd\n",
    "import numpy as np\n",
    "from skimage import io\n",
    "import sklearn.preprocessing as preproc\n",
    "import matplotlib.pyplot as plt\n",
    "import scipy.linalg as lng\n",
    "from tqdm import tqdm"
   ]
  },
  {
   "cell_type": "code",
   "execution_count": null,
   "id": "9b7ec3a7",
   "metadata": {},
   "outputs": [],
   "source": [
    "data_path = 'data/Faces/'\n",
    "labels_path = 'data/labels.csv'\n",
    "\n",
    "labels = pd.read_csv(labels_path)\n",
    "labels_columns = ['age', 'gender', 'race']\n",
    "labels = pd.DataFrame(data=labels.values, columns=labels_columns)\n",
    "\n",
    "dirs = os.listdir(data_path)\n",
    "no_of_images = len(dirs)\n",
    "\n",
    "# Open one image to get dimensions\n",
    "k = 350\n",
    "img_rnd = io.imread(data_path+f'{k}.jpg')\n",
    "h,w,_ = img_rnd.shape\n",
    "del img_rnd\n",
    "\n",
    "batch_ratio = 10\n",
    "bathc_len = no_of_images//batch_ratio\n",
    "current_index=0\n",
    "\n",
    "\n",
    "\n",
    "## Create the binary. Open it in append mode\n",
    "\n",
    "k = 20000\n",
    "X = np.empty((k,h*w))\n",
    "\n",
    "\n",
    "for i in tqdm(range(k)):\n",
    "    print(f'Loading image {i+1}/{k}')\n",
    "    a = io.imread(data_path+f'{i}.jpg',as_gray=True)\n",
    "    X[i,:] = a.reshape(1,-1)\n",
    "    del a\n",
    "\n"
   ]
  },
  {
   "cell_type": "code",
   "execution_count": null,
   "id": "bce54495",
   "metadata": {},
   "outputs": [],
   "source": [
    "U,S,Vh = lng.svd(X, full_matrices=False)\n",
    "V = Vh.T\n",
    "del Vh\n",
    "\n",
    "Z = U*S\n",
    "\n",
    "cumsum = np.cumsum(S*S/(S*S).sum())\n",
    "\n",
    "threshold = 0.9\n",
    "\n",
    "def plot_eigenface(V,eigenface=1):\n",
    "    i = eigenface-1\n",
    "    plt.subplot(1,2,1)\n",
    "    plt.imshow( (V[:,i]).reshape(h,w), cmap='gray')\n",
    "    plt.xticks(())\n",
    "    plt.yticks(())\n",
    "\n",
    "    plt.subplot(1,2,2)\n",
    "    plt.imshow((-V[:,i]).reshape(h,w), cmap='gray')\n",
    "    plt.xticks(())\n",
    "    plt.yticks(())\n",
    "\n",
    "    plt.show()\n",
    "    "
   ]
  },
  {
   "cell_type": "code",
   "execution_count": null,
   "id": "5ba3b0a0",
   "metadata": {},
   "outputs": [],
   "source": []
  }
 ],
 "metadata": {
  "kernelspec": {
   "display_name": "Python 3 (ipykernel)",
   "language": "python",
   "name": "python3"
  },
  "language_info": {
   "codemirror_mode": {
    "name": "ipython",
    "version": 3
   },
   "file_extension": ".py",
   "mimetype": "text/x-python",
   "name": "python",
   "nbconvert_exporter": "python",
   "pygments_lexer": "ipython3",
   "version": "3.9.10"
  }
 },
 "nbformat": 4,
 "nbformat_minor": 5
}
