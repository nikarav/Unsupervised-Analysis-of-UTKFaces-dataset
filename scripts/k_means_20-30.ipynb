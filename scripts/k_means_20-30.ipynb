{
 "cells": [
  {
   "cell_type": "code",
   "execution_count": 1,
   "id": "f9f5d249",
   "metadata": {},
   "outputs": [],
   "source": [
    "import os\n",
    "import pathlib\n",
    "import pandas as pd\n",
    "import numpy as np\n",
    "import gc\n",
    "from skimage import io\n",
    "import matplotlib.pyplot as plt\n",
    "import scipy.linalg as lng\n",
    "from tqdm import tqdm\n",
    "from sklearn.model_selection import train_test_split\n",
    "from sys import getsizeof\n",
    "from sklearn.preprocessing import StandardScaler,MinMaxScaler\n",
    "from sklearn.decomposition import PCA\n",
    "from sklearn.linear_model import LogisticRegression\n",
    "from sklearn.metrics import silhouette_score, adjusted_rand_score\n",
    "from sklearn.pipeline import Pipeline\n",
    "\n",
    "from sklearn.cluster import KMeans\n",
    "\n",
    "%matplotlib inline\n",
    "%run my_functions.ipynb"
   ]
  },
  {
   "cell_type": "code",
   "execution_count": 2,
   "id": "eea580fd",
   "metadata": {},
   "outputs": [],
   "source": [
    "data_path = '../data/Faces/'\n",
    "labels_path = '../data/labels.csv'\n",
    "result_path = '../results'\n",
    "names_path = \"../data/filenames.txt\"\n",
    "file_data_path = \"../files\"\n",
    "data_set_gray_npy = os.path.join(file_data_path, 'data_gray.npy')\n",
    "data_set_rgb_npy = os.path.join(file_data_path, 'data_rgb.npy')\n",
    "labels_csv_path = os.path.join(file_data_path, 'data_rgb.npy')"
   ]
  },
  {
   "cell_type": "code",
   "execution_count": 3,
   "id": "4e16a3da",
   "metadata": {},
   "outputs": [],
   "source": [
    "# Open a random image to get dimensions\n",
    "h, w = get_dimensions_from_an_image(data_path, 0, as_gray=True)"
   ]
  },
  {
   "cell_type": "code",
   "execution_count": 4,
   "id": "03f3f886",
   "metadata": {},
   "outputs": [
    {
     "data": {
      "text/html": [
       "<div>\n",
       "<style scoped>\n",
       "    .dataframe tbody tr th:only-of-type {\n",
       "        vertical-align: middle;\n",
       "    }\n",
       "\n",
       "    .dataframe tbody tr th {\n",
       "        vertical-align: top;\n",
       "    }\n",
       "\n",
       "    .dataframe thead th {\n",
       "        text-align: right;\n",
       "    }\n",
       "</style>\n",
       "<table border=\"1\" class=\"dataframe\">\n",
       "  <thead>\n",
       "    <tr style=\"text-align: right;\">\n",
       "      <th></th>\n",
       "      <th>actual_filename</th>\n",
       "      <th>image_no</th>\n",
       "      <th>age</th>\n",
       "      <th>gender</th>\n",
       "      <th>race</th>\n",
       "    </tr>\n",
       "  </thead>\n",
       "  <tbody>\n",
       "    <tr>\n",
       "      <th>0</th>\n",
       "      <td>100_0_0_20170112213500903.jpg.chip.jpg</td>\n",
       "      <td>0</td>\n",
       "      <td>100</td>\n",
       "      <td>0</td>\n",
       "      <td>0</td>\n",
       "    </tr>\n",
       "    <tr>\n",
       "      <th>1</th>\n",
       "      <td>100_0_0_20170112215240346.jpg.chip.jpg</td>\n",
       "      <td>1</td>\n",
       "      <td>100</td>\n",
       "      <td>0</td>\n",
       "      <td>0</td>\n",
       "    </tr>\n",
       "    <tr>\n",
       "      <th>2</th>\n",
       "      <td>100_1_0_20170110183726390.jpg.chip.jpg</td>\n",
       "      <td>2</td>\n",
       "      <td>100</td>\n",
       "      <td>1</td>\n",
       "      <td>0</td>\n",
       "    </tr>\n",
       "    <tr>\n",
       "      <th>3</th>\n",
       "      <td>100_1_0_20170112213001988.jpg.chip.jpg</td>\n",
       "      <td>3</td>\n",
       "      <td>100</td>\n",
       "      <td>1</td>\n",
       "      <td>0</td>\n",
       "    </tr>\n",
       "    <tr>\n",
       "      <th>4</th>\n",
       "      <td>100_1_0_20170112213303693.jpg.chip.jpg</td>\n",
       "      <td>4</td>\n",
       "      <td>100</td>\n",
       "      <td>1</td>\n",
       "      <td>0</td>\n",
       "    </tr>\n",
       "    <tr>\n",
       "      <th>...</th>\n",
       "      <td>...</td>\n",
       "      <td>...</td>\n",
       "      <td>...</td>\n",
       "      <td>...</td>\n",
       "      <td>...</td>\n",
       "    </tr>\n",
       "    <tr>\n",
       "      <th>23700</th>\n",
       "      <td>9_1_3_20161220222856346.jpg.chip.jpg</td>\n",
       "      <td>23700</td>\n",
       "      <td>9</td>\n",
       "      <td>1</td>\n",
       "      <td>3</td>\n",
       "    </tr>\n",
       "    <tr>\n",
       "      <th>23701</th>\n",
       "      <td>9_1_3_20170104222949455.jpg.chip.jpg</td>\n",
       "      <td>23701</td>\n",
       "      <td>9</td>\n",
       "      <td>1</td>\n",
       "      <td>3</td>\n",
       "    </tr>\n",
       "    <tr>\n",
       "      <th>23702</th>\n",
       "      <td>9_1_4_20170103200637399.jpg.chip.jpg</td>\n",
       "      <td>23702</td>\n",
       "      <td>9</td>\n",
       "      <td>1</td>\n",
       "      <td>4</td>\n",
       "    </tr>\n",
       "    <tr>\n",
       "      <th>23703</th>\n",
       "      <td>9_1_4_20170103200814791.jpg.chip.jpg</td>\n",
       "      <td>23703</td>\n",
       "      <td>9</td>\n",
       "      <td>1</td>\n",
       "      <td>4</td>\n",
       "    </tr>\n",
       "    <tr>\n",
       "      <th>23704</th>\n",
       "      <td>9_1_4_20170103213057382.jpg.chip.jpg</td>\n",
       "      <td>23704</td>\n",
       "      <td>9</td>\n",
       "      <td>1</td>\n",
       "      <td>4</td>\n",
       "    </tr>\n",
       "  </tbody>\n",
       "</table>\n",
       "<p>23705 rows × 5 columns</p>\n",
       "</div>"
      ],
      "text/plain": [
       "                              actual_filename  image_no  age  gender  race\n",
       "0      100_0_0_20170112213500903.jpg.chip.jpg         0  100       0     0\n",
       "1      100_0_0_20170112215240346.jpg.chip.jpg         1  100       0     0\n",
       "2      100_1_0_20170110183726390.jpg.chip.jpg         2  100       1     0\n",
       "3      100_1_0_20170112213001988.jpg.chip.jpg         3  100       1     0\n",
       "4      100_1_0_20170112213303693.jpg.chip.jpg         4  100       1     0\n",
       "...                                       ...       ...  ...     ...   ...\n",
       "23700    9_1_3_20161220222856346.jpg.chip.jpg     23700    9       1     3\n",
       "23701    9_1_3_20170104222949455.jpg.chip.jpg     23701    9       1     3\n",
       "23702    9_1_4_20170103200637399.jpg.chip.jpg     23702    9       1     4\n",
       "23703    9_1_4_20170103200814791.jpg.chip.jpg     23703    9       1     4\n",
       "23704    9_1_4_20170103213057382.jpg.chip.jpg     23704    9       1     4\n",
       "\n",
       "[23705 rows x 5 columns]"
      ]
     },
     "execution_count": 4,
     "metadata": {},
     "output_type": "execute_result"
    }
   ],
   "source": [
    "# Get labels as pandas object from labels.csv\n",
    "labels = get_labels_df(\n",
    "    labels_path=labels_path, names_path=names_path)\n",
    "labels"
   ]
  },
  {
   "cell_type": "code",
   "execution_count": 5,
   "id": "2eb150bc",
   "metadata": {},
   "outputs": [],
   "source": [
    "X = np.load(data_set_gray_npy)\n",
    "dirs = os.listdir(data_path)"
   ]
  },
  {
   "cell_type": "code",
   "execution_count": 6,
   "id": "97846f91",
   "metadata": {},
   "outputs": [
    {
     "data": {
      "text/plain": [
       "<matplotlib.image.AxesImage at 0x15129bfd0>"
      ]
     },
     "execution_count": 6,
     "metadata": {},
     "output_type": "execute_result"
    },
    {
     "data": {
      "image/png": "[encoded data removed]",
      "text/plain": [
       "<Figure size 432x288 with 1 Axes>"
      ]
     },
     "metadata": {
      "needs_background": "light"
     },
     "output_type": "display_data"
    }
   ],
   "source": [
    "# Show an image for verification\n",
    "plt.imshow(X[100].reshape(200,200), cmap=plt.cm.gray)"
   ]
  },
  {
   "cell_type": "code",
   "execution_count": 7,
   "id": "63bb9516",
   "metadata": {},
   "outputs": [],
   "source": [
    "start_age = 20\n",
    "end_age = 30\n",
    "cut_index = labels.query('age >= @start_age and age <= @end_age')"
   ]
  },
  {
   "cell_type": "code",
   "execution_count": 9,
   "id": "49ff6ba2",
   "metadata": {},
   "outputs": [
    {
     "data": {
      "text/plain": [
       "(8068, 5)"
      ]
     },
     "execution_count": 9,
     "metadata": {},
     "output_type": "execute_result"
    }
   ],
   "source": [
    "cut_index.shape"
   ]
  },
  {
   "cell_type": "code",
   "execution_count": 10,
   "id": "337961f2",
   "metadata": {},
   "outputs": [],
   "source": [
    "X = X[cut_index.index]"
   ]
  },
  {
   "cell_type": "code",
   "execution_count": null,
   "id": "0b83711f",
   "metadata": {},
   "outputs": [],
   "source": [
    "# Do PCA before clustering. Classic case of dimensiolity reduction\n",
    "# We will now use PCA on our dataset to reduce our dimensions. We will pick our retained variance of 0.98 \n",
    "# This needs to be explained using image reconstruction error and components to variance analysis\n",
    "variance = 0.98 \n",
    "pca = PCA(variance)\n",
    "pca.fit(X_cut)"
   ]
  }
 ],
 "metadata": {
  "kernelspec": {
   "display_name": "Python 3 (ipykernel)",
   "language": "python",
   "name": "python3"
  },
  "language_info": {
   "codemirror_mode": {
    "name": "ipython",
    "version": 3
   },
   "file_extension": ".py",
   "mimetype": "text/x-python",
   "name": "python",
   "nbconvert_exporter": "python",
   "pygments_lexer": "ipython3",
   "version": "3.9.10"
  }
 },
 "nbformat": 4,
 "nbformat_minor": 5
}
