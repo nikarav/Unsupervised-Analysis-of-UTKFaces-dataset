{
 "cells": [
  {
   "cell_type": "code",
   "execution_count": 3,
   "id": "fad23c9e",
   "metadata": {},
   "outputs": [],
   "source": [
    "import math\n",
    "import numpy as np\n",
    "import pandas as pd\n",
    "import skimage\n",
    "import matplotlib.pyplot as plt"
   ]
  },
  {
   "cell_type": "code",
   "execution_count": 2,
   "id": "2fb0eb72",
   "metadata": {},
   "outputs": [],
   "source": [
    "def convert_size(size_bytes):\n",
    "   if size_bytes == 0:\n",
    "       return \"0B\"\n",
    "   size_name = (\"B\", \"KB\", \"MB\", \"GB\", \"TB\", \"PB\", \"EB\", \"ZB\", \"YB\")\n",
    "   i = int(math.floor(math.log(size_bytes, 1024)))\n",
    "   p = math.pow(1024, i)\n",
    "   s = round(size_bytes / p, 2)\n",
    "   return \"%s %s\" % (s, size_name[i])"
   ]
  },
  {
   "cell_type": "code",
   "execution_count": 4,
   "id": "842c57e6",
   "metadata": {},
   "outputs": [],
   "source": [
    "def plot_image(vector, height, width, cmap='gray'):\n",
    "    dims = len(vector.shape)\n",
    "    if dims == 3:\n",
    "        plt.imshow(vector.reshape(height, width, 3))\n",
    "        return\n",
    "    plt.imshow(vector.reshape(height, width), cmap=cmap)\n"
   ]
  },
  {
   "cell_type": "code",
   "execution_count": 5,
   "id": "fb74762b",
   "metadata": {},
   "outputs": [],
   "source": [
    "def plot_2d_with_labels(X_df, label_df, components=[0, 1], decomposition_method=''):\n",
    "    import seaborn as sns\n",
    "    if len(components) > 2:\n",
    "        print('It is a 2d plot. Only 2 components required')\n",
    "        return\n",
    "    df = pd.DataFrame(\n",
    "        data=X_df.loc[:, [components[0], components[1]]], index=X_df.index)\n",
    "    df = pd.concat((df, label_df), axis=1, join='inner')\n",
    "    df.columns = [f'Comp. {components[0]+1} vector',\n",
    "                  f'Comp. {components[1]+1} vector',\n",
    "                  f'{label_df.columns.to_list()[0]}']\n",
    "    sns.lmplot(x=df.columns.to_list()[0], y=df.columns.to_list()[1],\n",
    "               hue=df.columns.to_list()[2], data=df, fit_reg=False)\n",
    "    ax = plt.gca()\n",
    "    ax.set_title('Observations using ' + decomposition_method)\n"
   ]
  },
  {
   "cell_type": "code",
   "execution_count": 6,
   "id": "fb91bd24",
   "metadata": {},
   "outputs": [],
   "source": [
    "\n",
    "def get_dimensions_from_an_image(faces_path, image_no=0, as_gray=True):\n",
    "    '''\n",
    "    Returns 2 integers, height (h) and width (w) as dimensions of an image\n",
    "    '''\n",
    "    test_img = skimage.io.imread(faces_path+f\"{image_no}.jpg\", as_gray=as_gray)\n",
    "    if as_gray:\n",
    "        h, w = test_img.shape\n",
    "        return h, w\n",
    "    h, w, _ = test_img.shape\n",
    "    return h, w\n"
   ]
  },
  {
   "cell_type": "code",
   "execution_count": 7,
   "id": "78257c20",
   "metadata": {},
   "outputs": [],
   "source": [
    "def pick_n_from_label(df, n, label, random_state=0, shuffle=True):\n",
    "    '''\n",
    "    Returns list of image names to load.\n",
    "    n: int, Number of elements from each label\n",
    "    label: string, Column from the pandas object to pick from its elements\n",
    "    '''\n",
    "    labels = df.copy()\n",
    "    lbl = label.lower()\n",
    "    image_names_to_load = []\n",
    "    for i in labels[lbl].unique():\n",
    "        indices = labels[labels[lbl] == i].index.to_list()\n",
    "        if shuffle:\n",
    "            np.random.seed(random_state)\n",
    "            np.random.shuffle(indices)\n",
    "        try:\n",
    "            image_names_to_load += indices[:n]\n",
    "        except IndexError:\n",
    "            image_names_to_load += indices\n",
    "    return image_names_to_load\n"
   ]
  },
  {
   "cell_type": "code",
   "execution_count": 8,
   "id": "21904f44",
   "metadata": {},
   "outputs": [],
   "source": [
    "def get_labels_df(labels_path, names_path=None):\n",
    "    '''\n",
    "    Return a pandas data frame with the following columns:\n",
    "        Index (automatically generated). Can be useful if we need to reset it later.\n",
    "        Processed_image filename as in the Faces folder, without the .jpg filetype extension\n",
    "        Image actual file name, if names_path is not None or empty.\n",
    "        Age: int, positive\n",
    "        Gender: binary ,0: male, 1: female\n",
    "        Race: int. 0:white, 1:black, 2:asian, 3:indian, 4:other\n",
    "    '''\n",
    "    labels_columns = ['age', 'gender', 'race']\n",
    "    labels = pd.read_csv(labels_path, header=None)\n",
    "    labels = pd.DataFrame(data=labels.values, columns=labels_columns)\n",
    "    labels['image_no'] = labels.index\n",
    "    if names_path is not None and names_path != '':\n",
    "        names = []\n",
    "        with open(names_path, 'r') as f:\n",
    "            lines = f.readlines()\n",
    "            names = [i.strip() for i in lines]\n",
    "        labels['actual_filename'] = names\n",
    "    cols = labels.columns.to_list()\n",
    "    cols = cols[-1:] + cols[-2:-1] + cols[:3]\n",
    "    labels = labels[cols]\n",
    "    return labels"
   ]
  },
  {
   "cell_type": "code",
   "execution_count": 9,
   "id": "ed938cd1",
   "metadata": {},
   "outputs": [],
   "source": [
    "def plot_pixels(data, title, colors=None, N=10000):\n",
    "    if colors is None:\n",
    "        colors = data\n",
    "    \n",
    "    # choose a random subset\n",
    "    rng = np.random.RandomState(0)\n",
    "    i = rng.permutation(data.shape[0])[:N]\n",
    "    colors = colors[i]\n",
    "    R, G, B = data[i].T\n",
    "    \n",
    "    fig, ax = plt.subplots(1, 2, figsize=(16, 6))\n",
    "    ax[0].scatter(R, G, color=colors, marker='.')\n",
    "    ax[0].set(xlabel='Red', ylabel='Green', xlim=(0, 1), ylim=(0, 1))\n",
    "\n",
    "    ax[1].scatter(R, B, color=colors, marker='.')\n",
    "    ax[1].set(xlabel='Red', ylabel='Blue', xlim=(0, 1), ylim=(0, 1))\n",
    "\n",
    "    fig.suptitle(title, size=20);"
   ]
  },
  {
   "cell_type": "code",
   "execution_count": null,
   "id": "b6d2c427",
   "metadata": {},
   "outputs": [],
   "source": []
  }
 ],
 "metadata": {
  "kernelspec": {
   "display_name": "Python 3 (ipykernel)",
   "language": "python",
   "name": "python3"
  },
  "language_info": {
   "codemirror_mode": {
    "name": "ipython",
    "version": 3
   },
   "file_extension": ".py",
   "mimetype": "text/x-python",
   "name": "python",
   "nbconvert_exporter": "python",
   "pygments_lexer": "ipython3",
   "version": "3.9.10"
  }
 },
 "nbformat": 4,
 "nbformat_minor": 5
}
