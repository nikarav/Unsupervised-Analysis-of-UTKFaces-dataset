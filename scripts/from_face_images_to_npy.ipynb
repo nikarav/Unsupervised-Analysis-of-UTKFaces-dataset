{
 "cells": [
  {
   "cell_type": "code",
   "execution_count": 8,
   "id": "847598f6",
   "metadata": {},
   "outputs": [],
   "source": [
    "import os\n",
    "import numpy as np\n",
    "from skimage import io, img_as_ubyte\n",
    "from tqdm import tqdm\n",
    "%run my_functions.ipynb"
   ]
  },
  {
   "cell_type": "code",
   "execution_count": 17,
   "id": "dae181d0",
   "metadata": {},
   "outputs": [],
   "source": [
    "faces_path = \"../data/Faces/\"\n",
    "labels_path = \"../data/labels.csv\"\n",
    "names_path = \"../data/filenames.txt\"\n",
    "file_data_path = \"../files\"\n",
    "data_set_gray_npy = os.path.join(file_data_path, 'data_gray.npy')\n",
    "data_set_rgb_npy = os.path.join(file_data_path, 'data_rgb.npy')\n",
    "labels_csv_path = os.path.join(file_data_path, 'data_labels.csv')"
   ]
  },
  {
   "cell_type": "code",
   "execution_count": 18,
   "id": "5b5466bf",
   "metadata": {},
   "outputs": [
    {
     "data": {
      "text/html": [
       "<div>\n",
       "<style scoped>\n",
       "    .dataframe tbody tr th:only-of-type {\n",
       "        vertical-align: middle;\n",
       "    }\n",
       "\n",
       "    .dataframe tbody tr th {\n",
       "        vertical-align: top;\n",
       "    }\n",
       "\n",
       "    .dataframe thead th {\n",
       "        text-align: right;\n",
       "    }\n",
       "</style>\n",
       "<table border=\"1\" class=\"dataframe\">\n",
       "  <thead>\n",
       "    <tr style=\"text-align: right;\">\n",
       "      <th></th>\n",
       "      <th>actual_filename</th>\n",
       "      <th>image_no</th>\n",
       "      <th>age</th>\n",
       "      <th>gender</th>\n",
       "      <th>race</th>\n",
       "    </tr>\n",
       "  </thead>\n",
       "  <tbody>\n",
       "    <tr>\n",
       "      <th>0</th>\n",
       "      <td>100_0_0_20170112213500903.jpg.chip.jpg</td>\n",
       "      <td>0</td>\n",
       "      <td>100</td>\n",
       "      <td>0</td>\n",
       "      <td>0</td>\n",
       "    </tr>\n",
       "    <tr>\n",
       "      <th>1</th>\n",
       "      <td>100_0_0_20170112215240346.jpg.chip.jpg</td>\n",
       "      <td>1</td>\n",
       "      <td>100</td>\n",
       "      <td>0</td>\n",
       "      <td>0</td>\n",
       "    </tr>\n",
       "    <tr>\n",
       "      <th>2</th>\n",
       "      <td>100_1_0_20170110183726390.jpg.chip.jpg</td>\n",
       "      <td>2</td>\n",
       "      <td>100</td>\n",
       "      <td>1</td>\n",
       "      <td>0</td>\n",
       "    </tr>\n",
       "    <tr>\n",
       "      <th>3</th>\n",
       "      <td>100_1_0_20170112213001988.jpg.chip.jpg</td>\n",
       "      <td>3</td>\n",
       "      <td>100</td>\n",
       "      <td>1</td>\n",
       "      <td>0</td>\n",
       "    </tr>\n",
       "    <tr>\n",
       "      <th>4</th>\n",
       "      <td>100_1_0_20170112213303693.jpg.chip.jpg</td>\n",
       "      <td>4</td>\n",
       "      <td>100</td>\n",
       "      <td>1</td>\n",
       "      <td>0</td>\n",
       "    </tr>\n",
       "    <tr>\n",
       "      <th>...</th>\n",
       "      <td>...</td>\n",
       "      <td>...</td>\n",
       "      <td>...</td>\n",
       "      <td>...</td>\n",
       "      <td>...</td>\n",
       "    </tr>\n",
       "    <tr>\n",
       "      <th>23700</th>\n",
       "      <td>9_1_3_20161220222856346.jpg.chip.jpg</td>\n",
       "      <td>23700</td>\n",
       "      <td>9</td>\n",
       "      <td>1</td>\n",
       "      <td>3</td>\n",
       "    </tr>\n",
       "    <tr>\n",
       "      <th>23701</th>\n",
       "      <td>9_1_3_20170104222949455.jpg.chip.jpg</td>\n",
       "      <td>23701</td>\n",
       "      <td>9</td>\n",
       "      <td>1</td>\n",
       "      <td>3</td>\n",
       "    </tr>\n",
       "    <tr>\n",
       "      <th>23702</th>\n",
       "      <td>9_1_4_20170103200637399.jpg.chip.jpg</td>\n",
       "      <td>23702</td>\n",
       "      <td>9</td>\n",
       "      <td>1</td>\n",
       "      <td>4</td>\n",
       "    </tr>\n",
       "    <tr>\n",
       "      <th>23703</th>\n",
       "      <td>9_1_4_20170103200814791.jpg.chip.jpg</td>\n",
       "      <td>23703</td>\n",
       "      <td>9</td>\n",
       "      <td>1</td>\n",
       "      <td>4</td>\n",
       "    </tr>\n",
       "    <tr>\n",
       "      <th>23704</th>\n",
       "      <td>9_1_4_20170103213057382.jpg.chip.jpg</td>\n",
       "      <td>23704</td>\n",
       "      <td>9</td>\n",
       "      <td>1</td>\n",
       "      <td>4</td>\n",
       "    </tr>\n",
       "  </tbody>\n",
       "</table>\n",
       "<p>23705 rows × 5 columns</p>\n",
       "</div>"
      ],
      "text/plain": [
       "                              actual_filename  image_no  age  gender  race\n",
       "0      100_0_0_20170112213500903.jpg.chip.jpg         0  100       0     0\n",
       "1      100_0_0_20170112215240346.jpg.chip.jpg         1  100       0     0\n",
       "2      100_1_0_20170110183726390.jpg.chip.jpg         2  100       1     0\n",
       "3      100_1_0_20170112213001988.jpg.chip.jpg         3  100       1     0\n",
       "4      100_1_0_20170112213303693.jpg.chip.jpg         4  100       1     0\n",
       "...                                       ...       ...  ...     ...   ...\n",
       "23700    9_1_3_20161220222856346.jpg.chip.jpg     23700    9       1     3\n",
       "23701    9_1_3_20170104222949455.jpg.chip.jpg     23701    9       1     3\n",
       "23702    9_1_4_20170103200637399.jpg.chip.jpg     23702    9       1     4\n",
       "23703    9_1_4_20170103200814791.jpg.chip.jpg     23703    9       1     4\n",
       "23704    9_1_4_20170103213057382.jpg.chip.jpg     23704    9       1     4\n",
       "\n",
       "[23705 rows x 5 columns]"
      ]
     },
     "execution_count": 18,
     "metadata": {},
     "output_type": "execute_result"
    }
   ],
   "source": [
    "# Get labels as pandas object from labels.csv\n",
    "labels = get_labels_df(\n",
    "    labels_path=labels_path, names_path=names_path)\n",
    "labels"
   ]
  },
  {
   "cell_type": "code",
   "execution_count": 11,
   "id": "88b3ac65",
   "metadata": {},
   "outputs": [],
   "source": [
    "# Put age in bins\n",
    "age_bin_width_years = 10\n",
    "ages = labels.age.values//age_bin_width_years  # bin_width fully lived\n",
    "labels.drop(['age'], axis=1, inplace=True)\n",
    "labels['age_bin'] = ages"
   ]
  },
  {
   "cell_type": "code",
   "execution_count": 13,
   "id": "d361c7b2",
   "metadata": {},
   "outputs": [
    {
     "name": "stderr",
     "output_type": "stream",
     "text": [
      "100%|█████████████████████████████████████████████| 23705/23705 [00:28<00:00, 824.92it/s]\n"
     ]
    }
   ],
   "source": [
    "# Open a random image to get dimensions\n",
    "h, w = get_dimensions_from_an_image(faces_path, 0, as_gray=True)\n",
    "\n",
    "# Save grayscale images\n",
    "dirs = os.listdir(faces_path)\n",
    "X = np.empty((len(dirs), h*w), dtype=np.ubyte)\n",
    "\n",
    "for i in tqdm(range(len(dirs))):\n",
    "    a = io.imread(faces_path+f\"{i}.jpg\", as_gray=True)\n",
    "    a = img_as_ubyte(a)\n",
    "    X[i, :] = a.reshape(1, -1)\n",
    "del a"
   ]
  },
  {
   "cell_type": "code",
   "execution_count": 14,
   "id": "c536810f",
   "metadata": {},
   "outputs": [],
   "source": [
    "labels_loaded = labels.copy()"
   ]
  },
  {
   "cell_type": "code",
   "execution_count": 15,
   "id": "4b811d35",
   "metadata": {},
   "outputs": [],
   "source": [
    "# Save labels and data matrix X to disk\n",
    "np.save(data_set_gray_npy, X)\n",
    "labels_loaded = labels.copy()\n",
    "labels_loaded.to_csv(labels_csv_path, index=False)\n",
    "\n",
    "del X"
   ]
  },
  {
   "cell_type": "code",
   "execution_count": 16,
   "id": "472d4659",
   "metadata": {},
   "outputs": [
    {
     "name": "stderr",
     "output_type": "stream",
     "text": [
      "100%|████████████████████████████████████████████| 23705/23705 [00:13<00:00, 1784.64it/s]\n"
     ]
    }
   ],
   "source": [
    "# RGB\n",
    "X_rgb = np.empty((len(dirs), h*w, 3), dtype=np.ubyte)\n",
    "\n",
    "for i in tqdm(range(len(dirs))):\n",
    "    a = io.imread(faces_path+f\"{i}.jpg\")\n",
    "    X_rgb[i, :, :] = a.reshape(1, -1, 3)\n",
    "del a\n",
    "# Save data to disk\n",
    "np.save(data_set_rgb_npy, X_rgb)\n",
    "del X_rgb"
   ]
  },
  {
   "cell_type": "code",
   "execution_count": null,
   "id": "8ad7b29e",
   "metadata": {},
   "outputs": [],
   "source": []
  }
 ],
 "metadata": {
  "kernelspec": {
   "display_name": "Python 3 (ipykernel)",
   "language": "python",
   "name": "python3"
  },
  "language_info": {
   "codemirror_mode": {
    "name": "ipython",
    "version": 3
   },
   "file_extension": ".py",
   "mimetype": "text/x-python",
   "name": "python",
   "nbconvert_exporter": "python",
   "pygments_lexer": "ipython3",
   "version": "3.9.10"
  }
 },
 "nbformat": 4,
 "nbformat_minor": 5
}
