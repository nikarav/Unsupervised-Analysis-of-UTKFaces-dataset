{
 "cells": [
  {
   "cell_type": "code",
   "execution_count": 8,
   "id": "847598f6",
   "metadata": {},
   "outputs": [],
   "source": [
    "import os\n",
    "import numpy as np\n",
    "from skimage import io, img_as_ubyte\n",
    "from tqdm import tqdm\n",
    "%run my_functions.ipynb"
   ]
  },
  {
   "cell_type": "code",
   "execution_count": 17,
   "id": "dae181d0",
   "metadata": {},
   "outputs": [],
   "source": [
    "faces_path = \"../data/Faces/\"\n",
    "labels_path = \"../data/labels.csv\"\n",
    "names_path = \"../data/filenames.txt\"\n",
    "file_data_path = \"../files\"\n",
    "data_set_gray_npy = os.path.join(file_data_path, 'data_gray.npy')\n",
    "data_set_rgb_npy = os.path.join(file_data_path, 'data_rgb.npy')\n",
    "labels_csv_path = 'data_labels.csv'"
   ]
  },
  {
   "cell_type": "code",
   "execution_count": 10,
   "id": "5b5466bf",
   "metadata": {},
   "outputs": [],
   "source": [
    "# Get labels as pandas object from labels.csv\n",
    "labels = get_labels_df(\n",
    "    labels_path=labels_path, names_path=names_path)\n"
   ]
  },
  {
   "cell_type": "code",
   "execution_count": 11,
   "id": "88b3ac65",
   "metadata": {},
   "outputs": [],
   "source": [
    "# Put age in bins\n",
    "age_bin_width_years = 10\n",
    "ages = labels.age.values//age_bin_width_years  # bin_width fully lived\n",
    "labels.drop(['age'], axis=1, inplace=True)\n",
    "labels['age_bin'] = ages"
   ]
  },
  {
   "cell_type": "code",
   "execution_count": 13,
   "id": "d361c7b2",
   "metadata": {},
   "outputs": [
    {
     "name": "stderr",
     "output_type": "stream",
     "text": [
      "100%|█████████████████████████████████████████████| 23705/23705 [00:28<00:00, 824.92it/s]\n"
     ]
    }
   ],
   "source": [
    "# Open a random image to get dimensions\n",
    "h, w = get_dimensions_from_an_image(faces_path, 0, as_gray=True)\n",
    "\n",
    "# Save grayscale images\n",
    "dirs = os.listdir(faces_path)\n",
    "X = np.empty((len(dirs), h*w), dtype=np.ubyte)\n",
    "\n",
    "for i in tqdm(range(len(dirs))):\n",
    "    a = io.imread(faces_path+f\"{i}.jpg\", as_gray=True)\n",
    "    a = img_as_ubyte(a)\n",
    "    X[i, :] = a.reshape(1, -1)\n",
    "del a"
   ]
  },
  {
   "cell_type": "code",
   "execution_count": 14,
   "id": "c536810f",
   "metadata": {},
   "outputs": [],
   "source": [
    "labels_loaded = labels.copy()"
   ]
  },
  {
   "cell_type": "code",
   "execution_count": 15,
   "id": "4b811d35",
   "metadata": {},
   "outputs": [],
   "source": [
    "# Save labels and data matrix X to disk\n",
    "np.save(data_set_gray_npy, X)\n",
    "labels_loaded = labels.copy()\n",
    "labels_loaded.to_csv(labels_csv_path, index=False)\n",
    "\n",
    "del X"
   ]
  },
  {
   "cell_type": "code",
   "execution_count": 16,
   "id": "472d4659",
   "metadata": {},
   "outputs": [
    {
     "name": "stderr",
     "output_type": "stream",
     "text": [
      "100%|████████████████████████████████████████████| 23705/23705 [00:13<00:00, 1784.64it/s]\n"
     ]
    }
   ],
   "source": [
    "# RGB\n",
    "X_rgb = np.empty((len(dirs), h*w, 3), dtype=np.ubyte)\n",
    "\n",
    "for i in tqdm(range(len(dirs))):\n",
    "    a = io.imread(faces_path+f\"{i}.jpg\")\n",
    "    X_rgb[i, :, :] = a.reshape(1, -1, 3)\n",
    "del a\n",
    "# Save data to disk\n",
    "np.save(data_set_rgb_npy, X_rgb)\n",
    "del X_rgb"
   ]
  },
  {
   "cell_type": "code",
   "execution_count": null,
   "id": "8ad7b29e",
   "metadata": {},
   "outputs": [],
   "source": []
  }
 ],
 "metadata": {
  "kernelspec": {
   "display_name": "Python 3 (ipykernel)",
   "language": "python",
   "name": "python3"
  },
  "language_info": {
   "codemirror_mode": {
    "name": "ipython",
    "version": 3
   },
   "file_extension": ".py",
   "mimetype": "text/x-python",
   "name": "python",
   "nbconvert_exporter": "python",
   "pygments_lexer": "ipython3",
   "version": "3.9.10"
  }
 },
 "nbformat": 4,
 "nbformat_minor": 5
}
