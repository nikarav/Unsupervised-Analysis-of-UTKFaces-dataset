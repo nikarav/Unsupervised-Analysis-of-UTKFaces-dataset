{
 "cells": [
  {
   "cell_type": "code",
   "execution_count": 1,
   "id": "760f4ebf",
   "metadata": {},
   "outputs": [],
   "source": [
    "import os\n",
    "import pathlib\n",
    "import pandas as pd\n",
    "import numpy as np\n",
    "from skimage import io\n",
    "import sklearn.preprocessing as preproc\n",
    "import matplotlib.pyplot as plt\n",
    "import scipy.linalg as lng\n",
    "from tqdm import tqdm"
   ]
  },
  {
   "cell_type": "code",
   "execution_count": 3,
   "id": "f870d1b1",
   "metadata": {},
   "outputs": [
    {
     "name": "stderr",
     "output_type": "stream",
     "text": [
      " 16%|████████████▊                                                                   | 16/100 [00:00<00:00, 155.22it/s]"
     ]
    },
    {
     "name": "stdout",
     "output_type": "stream",
     "text": [
      "Loading image 1/100\n",
      "Loading image 2/100\n",
      "Loading image 3/100\n",
      "Loading image 4/100\n",
      "Loading image 5/100\n",
      "Loading image 6/100\n",
      "Loading image 7/100\n",
      "Loading image 8/100\n",
      "Loading image 9/100\n",
      "Loading image 10/100\n",
      "Loading image 11/100\n",
      "Loading image 12/100\n",
      "Loading image 13/100\n",
      "Loading image 14/100\n",
      "Loading image 15/100\n",
      "Loading image 16/100\n",
      "Loading image 17/100\n",
      "Loading image 18/100\n",
      "Loading image 19/100\n",
      "Loading image 20/100\n",
      "Loading image 21/100\n",
      "Loading image 22/100\n",
      "Loading image 23/100\n",
      "Loading image 24/100\n",
      "Loading image 25/100\n",
      "Loading image 26/100\n",
      "Loading image 27/100\n",
      "Loading image 28/100\n"
     ]
    },
    {
     "name": "stderr",
     "output_type": "stream",
     "text": [
      " 50%|████████████████████████████████████████                                        | 50/100 [00:00<00:00, 162.65it/s]"
     ]
    },
    {
     "name": "stdout",
     "output_type": "stream",
     "text": [
      "Loading image 29/100\n",
      "Loading image 30/100\n",
      "Loading image 31/100\n",
      "Loading image 32/100\n",
      "Loading image 33/100\n",
      "Loading image 34/100\n",
      "Loading image 35/100\n",
      "Loading image 36/100\n",
      "Loading image 37/100\n",
      "Loading image 38/100\n",
      "Loading image 39/100\n",
      "Loading image 40/100\n",
      "Loading image 41/100\n",
      "Loading image 42/100\n",
      "Loading image 43/100\n",
      "Loading image 44/100\n",
      "Loading image 45/100\n",
      "Loading image 46/100\n",
      "Loading image 47/100\n",
      "Loading image 48/100\n",
      "Loading image 49/100\n",
      "Loading image 50/100\n",
      "Loading image 51/100\n",
      "Loading image 52/100\n",
      "Loading image 53/100\n",
      "Loading image 54/100\n",
      "Loading image 55/100\n",
      "Loading image 56/100\n",
      "Loading image 57/100\n",
      "Loading image 58/100\n",
      "Loading image 59/100\n",
      "Loading image 60/100\n"
     ]
    },
    {
     "name": "stderr",
     "output_type": "stream",
     "text": [
      " 84%|███████████████████████████████████████████████████████████████████▏            | 84/100 [00:00<00:00, 164.40it/s]"
     ]
    },
    {
     "name": "stdout",
     "output_type": "stream",
     "text": [
      "Loading image 61/100\n",
      "Loading image 62/100\n",
      "Loading image 63/100\n",
      "Loading image 64/100\n",
      "Loading image 65/100\n",
      "Loading image 66/100\n",
      "Loading image 67/100\n",
      "Loading image 68/100\n",
      "Loading image 69/100\n",
      "Loading image 70/100\n",
      "Loading image 71/100\n",
      "Loading image 72/100\n",
      "Loading image 73/100\n",
      "Loading image 74/100\n",
      "Loading image 75/100\n",
      "Loading image 76/100\n",
      "Loading image 77/100\n",
      "Loading image 78/100\n",
      "Loading image 79/100\n",
      "Loading image 80/100\n",
      "Loading image 81/100\n",
      "Loading image 82/100\n",
      "Loading image 83/100\n",
      "Loading image 84/100\n",
      "Loading image 85/100\n",
      "Loading image 86/100\n",
      "Loading image 87/100\n",
      "Loading image 88/100\n",
      "Loading image 89/100\n",
      "Loading image 90/100\n",
      "Loading image 91/100\n"
     ]
    },
    {
     "name": "stderr",
     "output_type": "stream",
     "text": [
      "100%|███████████████████████████████████████████████████████████████████████████████| 100/100 [00:00<00:00, 162.43it/s]"
     ]
    },
    {
     "name": "stdout",
     "output_type": "stream",
     "text": [
      "Loading image 92/100\n",
      "Loading image 93/100\n",
      "Loading image 94/100\n",
      "Loading image 95/100\n",
      "Loading image 96/100\n",
      "Loading image 97/100\n",
      "Loading image 98/100\n",
      "Loading image 99/100\n",
      "Loading image 100/100\n"
     ]
    },
    {
     "name": "stderr",
     "output_type": "stream",
     "text": [
      "\n"
     ]
    }
   ],
   "source": [
    "data_path = '../data/Faces/'\n",
    "labels_path = '../data/labels.csv'\n",
    "\n",
    "labels = pd.read_csv(labels_path)\n",
    "labels_columns = ['age', 'gender', 'race']\n",
    "labels = pd.DataFrame(data=labels.values, columns=labels_columns)\n",
    "\n",
    "dirs = os.listdir(data_path)\n",
    "no_of_images = len(dirs)\n",
    "\n",
    "# Open one image to get dimensions\n",
    "k = 350\n",
    "img_rnd = io.imread(data_path+f'{k}.jpg')\n",
    "h,w,_ = img_rnd.shape\n",
    "del img_rnd\n",
    "\n",
    "batch_ratio = 10\n",
    "bathc_len = no_of_images//batch_ratio\n",
    "current_index=0\n",
    "\n",
    "\n",
    "\n",
    "## Create the binary. Open it in append mode\n",
    "\n",
    "k = 100\n",
    "X = np.empty((k,h*w))\n",
    "\n",
    "\n",
    "for i in tqdm(range(k)):\n",
    "    print(f'Loading image {i+1}/{k}')\n",
    "    a = io.imread(data_path+f'{i}.jpg',as_gray=True)\n",
    "    X[i,:] = a.reshape(1,-1)\n",
    "    del a\n",
    "\n"
   ]
  },
  {
   "cell_type": "code",
   "execution_count": 4,
   "id": "31930507",
   "metadata": {},
   "outputs": [],
   "source": [
    "U,S,Vh = lng.svd(X, full_matrices=False)\n",
    "V = Vh.T\n",
    "del Vh\n",
    "\n",
    "Z = U*S\n",
    "\n",
    "cumsum = np.cumsum(S*S/(S*S).sum())\n",
    "\n",
    "threshold = 0.9\n",
    "\n",
    "def plot_eigenface(V,eigenface=1):\n",
    "    i = eigenface-1\n",
    "    plt.subplot(1,2,1)\n",
    "    plt.imshow( (V[:,i]).reshape(h,w), cmap='gray')\n",
    "    plt.xticks(())\n",
    "    plt.yticks(())\n",
    "\n",
    "    plt.subplot(1,2,2)\n",
    "    plt.imshow((-V[:,i]).reshape(h,w), cmap='gray')\n",
    "    plt.xticks(())\n",
    "    plt.yticks(())\n",
    "\n",
    "    plt.show()\n",
    "    "
   ]
  },
  {
   "cell_type": "code",
   "execution_count": 5,
   "id": "1d58e31d",
   "metadata": {},
   "outputs": [
    {
     "data": {
      "image/png": "[encoded data removed]",
      "text/plain": [
       "<Figure size 432x288 with 2 Axes>"
      ]
     },
     "metadata": {},
     "output_type": "display_data"
    }
   ],
   "source": [
    "plot_eigenface(V, 1)"
   ]
  },
  {
   "cell_type": "code",
   "execution_count": null,
   "id": "e3e3d03a-887b-4c28-81ef-653ff0a4aac7",
   "metadata": {},
   "outputs": [],
   "source": []
  }
 ],
 "metadata": {
  "kernelspec": {
   "display_name": "Python 3 (ipykernel)",
   "language": "python",
   "name": "python3"
  },
  "language_info": {
   "codemirror_mode": {
    "name": "ipython",
    "version": 3
   },
   "file_extension": ".py",
   "mimetype": "text/x-python",
   "name": "python",
   "nbconvert_exporter": "python",
   "pygments_lexer": "ipython3",
   "version": "3.9.10"
  }
 },
 "nbformat": 4,
 "nbformat_minor": 5
}
