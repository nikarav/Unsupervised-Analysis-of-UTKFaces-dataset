{
 "cells": [
  {
   "cell_type": "code",
   "execution_count": 3,
   "id": "8790bdb7",
   "metadata": {},
   "outputs": [],
   "source": [
    "import pathlib\n",
    "import numpy as np\n",
    "import pandas as pd\n",
    "from skimage import io\n",
    "import matplotlib.pyplot as plt\n",
    "%matplotlib inline"
   ]
  },
  {
   "cell_type": "markdown",
   "id": "3088a08a",
   "metadata": {},
   "source": [
    "Paths for data, labels and filenames"
   ]
  },
  {
   "cell_type": "code",
   "execution_count": 10,
   "id": "750a43a9",
   "metadata": {},
   "outputs": [],
   "source": [
    "path = pathlib.Path().cwd()\n",
    "faces_path = path.parent/'data'/'Faces'\n",
    "labels_path = path.parent/'data'/'labels.csv'\n",
    "names_path = path.parent/'data'/'labels.csv'"
   ]
  },
  {
   "cell_type": "code",
   "execution_count": 11,
   "id": "bce9543c",
   "metadata": {},
   "outputs": [
    {
     "name": "stdout",
     "output_type": "stream",
     "text": [
      "C:\\Users\\user\\Documents\\DTU\\Spring_22\\Computational_data_analysis\\Unsupervised-Analysis-of-UTKFaces-dataset\\data\\Faces\n"
     ]
    }
   ],
   "source": []
  },
  {
   "cell_type": "code",
   "execution_count": null,
   "id": "ffb53760",
   "metadata": {},
   "outputs": [],
   "source": []
  }
 ],
 "metadata": {
  "kernelspec": {
   "display_name": "Python 3 (ipykernel)",
   "language": "python",
   "name": "python3"
  },
  "language_info": {
   "codemirror_mode": {
    "name": "ipython",
    "version": 3
   },
   "file_extension": ".py",
   "mimetype": "text/x-python",
   "name": "python",
   "nbconvert_exporter": "python",
   "pygments_lexer": "ipython3",
   "version": "3.9.7"
  }
 },
 "nbformat": 4,
 "nbformat_minor": 5
}
